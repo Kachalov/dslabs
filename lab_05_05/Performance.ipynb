{
 "metadata": {
  "name": "",
  "signature": "sha256:5c91deb0fd0ea2591363373d2775a1c4c032bd9ca761a4466da8f9366822eb00"
 },
 "nbformat": 3,
 "nbformat_minor": 0,
 "worksheets": [
  {
   "cells": [
    {
     "cell_type": "code",
     "collapsed": false,
     "input": [
      "from plotly.offline import download_plotlyjs, init_notebook_mode, plot, iplot\n",
      "import plotly.graph_objs as go\n",
      "import subprocess\n",
      "import random\n",
      "import math as m\n",
      "import subprocess\n",
      "import os\n",
      "from gen import gen\n",
      "\n",
      "init_notebook_mode(connected=True)\n",
      "\n",
      "mtrx = []\n",
      "smtrx = []\n",
      "\n",
      "for sparse in range(0, 100 + 1, 5):\n",
      "    print(\"Sparse:\", sparse)\n",
      "    #print(\"Generating A\")\n",
      "    d1 = gen(None, 1, 500, sparse/100)\n",
      "    #print(\"Generating B\")\n",
      "    d2 = gen(None, 500, 20, sparse/100)\n",
      "\n",
      "    output = subprocess.Popen(\"./main.exe\", \n",
      "                              stdout = subprocess.PIPE, \n",
      "                              stdin = subprocess.PIPE, \n",
      "                              stderr = subprocess.STDOUT, \n",
      "                              shell=True).communicate(input=(d1 + d2).encode(\"utf-8\"))[0]\n",
      "    out = output.decode(\"utf-8\").split(\"\\n\")\n",
      "    data = out[-3:-1]\n",
      "    if \"Err code:\" in data[1]:\n",
      "        print(\"Error(%s) sparse(%d)\" % (data[1][len(\"Err code: \"):], sparse))\n",
      "    else:\n",
      "        #for x in out:\n",
      "        #    if \"Sparse\" in x:\n",
      "        #        print(x)\n",
      "        \n",
      "        data[0] = data[0].replace(\"Ticks  MTRX: \\x1b[1;31m\", \"\")[:-len(\"\\x1b[0m\")]\n",
      "        data[1] = data[1].replace(\"Ticks SMTRX: \\x1b[1;32m\", \"\")[:-len(\"\\x1b[0m\")]\n",
      "        mtrx.append((sparse, int(data[0])))\n",
      "        smtrx.append((sparse, int(data[1])))\n",
      "    \n",
      "data = [\n",
      "    go.Scatter(\n",
      "        x=list(n[0] for n in mtrx),\n",
      "        y=list(n[1] for n in mtrx),\n",
      "        mode='lines',\n",
      "        name='mtrx',\n",
      "        line=dict(\n",
      "            shape='spline'\n",
      "        ),\n",
      "    ),\n",
      "    go.Scatter(\n",
      "        x=list(n[0] for n in smtrx),\n",
      "        y=list(n[1] for n in smtrx),\n",
      "        mode='lines',\n",
      "        name='smtrx',\n",
      "        line=dict(\n",
      "            shape='spline'\n",
      "        ),\n",
      "    )\n",
      "]\n",
      "\n",
      "layout = dict(\n",
      "    title = 'Mul performance',\n",
      "    xaxis = dict(title = 'Sparsing'),\n",
      "    yaxis = dict(title = 'Processor ticks'),\n",
      ")\n",
      "\n",
      "fig = go.Figure(data=data, layout=layout)\n",
      "iplot(fig)"
     ],
     "language": "python",
     "metadata": {},
     "outputs": [
      {
       "html": [
        "<script>requirejs.config({paths: { 'plotly': ['https://cdn.plot.ly/plotly-latest.min']},});if(!window.Plotly) {{require(['plotly'],function(plotly) {window.Plotly=plotly;});}}</script>"
       ],
       "metadata": {},
       "output_type": "display_data",
       "text": [
        "<IPython.core.display.HTML at 0x7f79351fcb70>"
       ]
      },
      {
       "output_type": "stream",
       "stream": "stdout",
       "text": [
        "Sparse: 0\n",
        "Sparse:"
       ]
      },
      {
       "output_type": "stream",
       "stream": "stdout",
       "text": [
        " 5\n",
        "Sparse:"
       ]
      },
      {
       "output_type": "stream",
       "stream": "stdout",
       "text": [
        " 10\n",
        "Sparse:"
       ]
      },
      {
       "output_type": "stream",
       "stream": "stdout",
       "text": [
        " 15\n",
        "Sparse:"
       ]
      },
      {
       "output_type": "stream",
       "stream": "stdout",
       "text": [
        " 20\n",
        "Sparse:"
       ]
      },
      {
       "output_type": "stream",
       "stream": "stdout",
       "text": [
        " 25\n",
        "Sparse:"
       ]
      },
      {
       "output_type": "stream",
       "stream": "stdout",
       "text": [
        " 30\n",
        "Sparse:"
       ]
      },
      {
       "output_type": "stream",
       "stream": "stdout",
       "text": [
        " 35\n",
        "Sparse:"
       ]
      },
      {
       "output_type": "stream",
       "stream": "stdout",
       "text": [
        " 40\n",
        "Sparse:"
       ]
      },
      {
       "output_type": "stream",
       "stream": "stdout",
       "text": [
        " 45\n",
        "Sparse:"
       ]
      },
      {
       "output_type": "stream",
       "stream": "stdout",
       "text": [
        " 50\n",
        "Sparse:"
       ]
      },
      {
       "output_type": "stream",
       "stream": "stdout",
       "text": [
        " 55\n",
        "Sparse:"
       ]
      },
      {
       "output_type": "stream",
       "stream": "stdout",
       "text": [
        " 60\n",
        "Sparse:"
       ]
      },
      {
       "output_type": "stream",
       "stream": "stdout",
       "text": [
        " 65\n",
        "Sparse: 70\n",
        "Sparse:"
       ]
      },
      {
       "output_type": "stream",
       "stream": "stdout",
       "text": [
        " 75\n",
        "Sparse: 80\n",
        "Sparse:"
       ]
      },
      {
       "output_type": "stream",
       "stream": "stdout",
       "text": [
        " 85\n",
        "Sparse: 90\n",
        "Sparse: 95\n",
        "Sparse:"
       ]
      },
      {
       "output_type": "stream",
       "stream": "stdout",
       "text": [
        " 100\n"
       ]
      },
      {
       "application/vnd.plotly.v1+json": {
        "data": [
         {
          "line": {
           "shape": "spline"
          },
          "mode": "lines",
          "name": "mtrx",
          "type": "scatter",
          "x": [
           0,
           5,
           10,
           15,
           20,
           25,
           30,
           35,
           40,
           45,
           50,
           55,
           60,
           65,
           70,
           75,
           80,
           85,
           90,
           95,
           100
          ],
          "y": [
           138406,
           130492,
           237664,
           139880,
           203734,
           134888,
           133491,
           266524,
           142552,
           200530,
           129184,
           159645,
           130458,
           129429,
           129750,
           126250,
           133077,
           183702,
           129450,
           126338,
           336293
          ]
         },
         {
          "line": {
           "shape": "spline"
          },
          "mode": "lines",
          "name": "smtrx",
          "type": "scatter",
          "x": [
           0,
           5,
           10,
           15,
           20,
           25,
           30,
           35,
           40,
           45,
           50,
           55,
           60,
           65,
           70,
           75,
           80,
           85,
           90,
           95,
           100
          ],
          "y": [
           201286,
           180481,
           181587,
           153538,
           145492,
           129901,
           138115,
           109486,
           91220,
           80367,
           68816,
           67617,
           48700,
           39743,
           31830,
           28959,
           20222,
           23924,
           13573,
           9453,
           831
          ]
         }
        ],
        "layout": {
         "title": "Mul performance",
         "xaxis": {
          "title": "Sparsing"
         },
         "yaxis": {
          "title": "Processor ticks"
         }
        }
       },
       "html": [
        "<div id=\"ce2ac015-fc63-4215-a2b4-b992b5b17014\" style=\"height: 525px; width: 100%;\" class=\"plotly-graph-div\"></div><script type=\"text/javascript\">require([\"plotly\"], function(Plotly) { window.PLOTLYENV=window.PLOTLYENV || {};window.PLOTLYENV.BASE_URL=\"https://plot.ly\";Plotly.newPlot(\"ce2ac015-fc63-4215-a2b4-b992b5b17014\", [{\"x\": [0, 5, 10, 15, 20, 25, 30, 35, 40, 45, 50, 55, 60, 65, 70, 75, 80, 85, 90, 95, 100], \"y\": [138406, 130492, 237664, 139880, 203734, 134888, 133491, 266524, 142552, 200530, 129184, 159645, 130458, 129429, 129750, 126250, 133077, 183702, 129450, 126338, 336293], \"type\": \"scatter\", \"line\": {\"shape\": \"spline\"}, \"mode\": \"lines\", \"name\": \"mtrx\"}, {\"x\": [0, 5, 10, 15, 20, 25, 30, 35, 40, 45, 50, 55, 60, 65, 70, 75, 80, 85, 90, 95, 100], \"y\": [201286, 180481, 181587, 153538, 145492, 129901, 138115, 109486, 91220, 80367, 68816, 67617, 48700, 39743, 31830, 28959, 20222, 23924, 13573, 9453, 831], \"type\": \"scatter\", \"line\": {\"shape\": \"spline\"}, \"mode\": \"lines\", \"name\": \"smtrx\"}], {\"yaxis\": {\"title\": \"Processor ticks\"}, \"title\": \"Mul performance\", \"xaxis\": {\"title\": \"Sparsing\"}}, {\"linkText\": \"Export to plot.ly\", \"showLink\": true})});</script>"
       ],
       "metadata": {},
       "output_type": "display_data"
      }
     ],
     "prompt_number": 60
    },
    {
     "cell_type": "code",
     "collapsed": false,
     "input": [],
     "language": "python",
     "metadata": {},
     "outputs": [],
     "prompt_number": 53
    },
    {
     "cell_type": "code",
     "collapsed": false,
     "input": [],
     "language": "python",
     "metadata": {},
     "outputs": []
    }
   ],
   "metadata": {}
  }
 ]
}