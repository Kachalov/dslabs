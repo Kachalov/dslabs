{
 "cells": [
  {
   "cell_type": "code",
   "execution_count": 51,
   "metadata": {},
   "outputs": [
    {
     "data": {
      "text/html": [
       "<script>requirejs.config({paths: { 'plotly': ['https://cdn.plot.ly/plotly-latest.min']},});if(!window.Plotly) {{require(['plotly'],function(plotly) {window.Plotly=plotly;});}}</script>"
      ],
      "text/vnd.plotly.v1+html": [
       "<script>requirejs.config({paths: { 'plotly': ['https://cdn.plot.ly/plotly-latest.min']},});if(!window.Plotly) {{require(['plotly'],function(plotly) {window.Plotly=plotly;});}}</script>"
      ]
     },
     "metadata": {},
     "output_type": "display_data"
    },
    {
     "name": "stdout",
     "output_type": "stream",
     "text": [
      "Sparse: 0\n",
      "Sparse: 5\n",
      "Sparse: 10\n",
      "Sparse: 15\n",
      "Sparse: 20\n",
      "Sparse: 25\n",
      "Sparse: 30\n",
      "Sparse: 35\n",
      "Sparse: 40\n",
      "Sparse: 45\n",
      "Sparse: 50\n",
      "Sparse: 55\n",
      "Sparse: 60\n",
      "Sparse: 65\n",
      "Sparse: 70\n",
      "Sparse: 75\n",
      "Sparse: 80\n",
      "Sparse: 85\n",
      "Sparse: 90\n",
      "Sparse: 95\n",
      "Sparse: 100\n"
     ]
    },
    {
     "data": {
      "application/vnd.plotly.v1+json": {
       "data": [
        {
         "line": {
          "shape": "spline"
         },
         "mode": "lines",
         "name": "mtrx",
         "type": "scatter",
         "x": [
          0,
          5,
          10,
          15,
          20,
          25,
          30,
          35,
          40,
          45,
          50,
          55,
          60,
          65,
          70,
          75,
          80,
          85,
          90,
          95,
          100
         ],
         "y": [
          139291,
          137455,
          142097,
          127000,
          131494,
          127358,
          128003,
          131336,
          132433,
          127560,
          127052,
          126512,
          128709,
          127112,
          126357,
          127170,
          133167,
          127043,
          127209,
          143791,
          139761
         ]
        },
        {
         "line": {
          "shape": "spline"
         },
         "mode": "lines",
         "name": "smtrx",
         "type": "scatter",
         "x": [
          0,
          5,
          10,
          15,
          20,
          25,
          30,
          35,
          40,
          45,
          50,
          55,
          60,
          65,
          70,
          75,
          80,
          85,
          90,
          95,
          100
         ],
         "y": [
          229876,
          265937.55555555556,
          259736.66666666666,
          189125.11111111112,
          185273.22222222222,
          171059.77777777778,
          150380.55555555556,
          152674.55555555556,
          155493,
          128083.77777777778,
          100616.11111111111,
          114786.33333333333,
          85948.33333333333,
          85817.33333333333,
          77680.88888888889,
          138426.55555555556,
          84805,
          430922.8888888889,
          53826.333333333336,
          87821.88888888889,
          2142.1111111111113
         ]
        }
       ],
       "layout": {
        "title": "Mul performance",
        "xaxis": {
         "title": "Sparsing"
        },
        "yaxis": {
         "title": "Processor ticks"
        }
       }
      },
      "text/html": [
       "<div id=\"6ccb3116-5cfd-41fa-bc4d-33d727e93113\" style=\"height: 525px; width: 100%;\" class=\"plotly-graph-div\"></div><script type=\"text/javascript\">require([\"plotly\"], function(Plotly) { window.PLOTLYENV=window.PLOTLYENV || {};window.PLOTLYENV.BASE_URL=\"https://plot.ly\";Plotly.newPlot(\"6ccb3116-5cfd-41fa-bc4d-33d727e93113\", [{\"line\": {\"shape\": \"spline\"}, \"x\": [0, 5, 10, 15, 20, 25, 30, 35, 40, 45, 50, 55, 60, 65, 70, 75, 80, 85, 90, 95, 100], \"type\": \"scatter\", \"y\": [139291, 137455, 142097, 127000, 131494, 127358, 128003, 131336, 132433, 127560, 127052, 126512, 128709, 127112, 126357, 127170, 133167, 127043, 127209, 143791, 139761], \"name\": \"mtrx\", \"mode\": \"lines\"}, {\"line\": {\"shape\": \"spline\"}, \"x\": [0, 5, 10, 15, 20, 25, 30, 35, 40, 45, 50, 55, 60, 65, 70, 75, 80, 85, 90, 95, 100], \"type\": \"scatter\", \"y\": [229876.0, 265937.55555555556, 259736.66666666666, 189125.11111111112, 185273.22222222222, 171059.77777777778, 150380.55555555556, 152674.55555555556, 155493.0, 128083.77777777778, 100616.11111111111, 114786.33333333333, 85948.33333333333, 85817.33333333333, 77680.88888888889, 138426.55555555556, 84805.0, 430922.8888888889, 53826.333333333336, 87821.88888888889, 2142.1111111111113], \"name\": \"smtrx\", \"mode\": \"lines\"}], {\"title\": \"Mul performance\", \"xaxis\": {\"title\": \"Sparsing\"}, \"yaxis\": {\"title\": \"Processor ticks\"}}, {\"linkText\": \"Export to plot.ly\", \"showLink\": true})});</script>"
      ],
      "text/vnd.plotly.v1+html": [
       "<div id=\"6ccb3116-5cfd-41fa-bc4d-33d727e93113\" style=\"height: 525px; width: 100%;\" class=\"plotly-graph-div\"></div><script type=\"text/javascript\">require([\"plotly\"], function(Plotly) { window.PLOTLYENV=window.PLOTLYENV || {};window.PLOTLYENV.BASE_URL=\"https://plot.ly\";Plotly.newPlot(\"6ccb3116-5cfd-41fa-bc4d-33d727e93113\", [{\"line\": {\"shape\": \"spline\"}, \"x\": [0, 5, 10, 15, 20, 25, 30, 35, 40, 45, 50, 55, 60, 65, 70, 75, 80, 85, 90, 95, 100], \"type\": \"scatter\", \"y\": [139291, 137455, 142097, 127000, 131494, 127358, 128003, 131336, 132433, 127560, 127052, 126512, 128709, 127112, 126357, 127170, 133167, 127043, 127209, 143791, 139761], \"name\": \"mtrx\", \"mode\": \"lines\"}, {\"line\": {\"shape\": \"spline\"}, \"x\": [0, 5, 10, 15, 20, 25, 30, 35, 40, 45, 50, 55, 60, 65, 70, 75, 80, 85, 90, 95, 100], \"type\": \"scatter\", \"y\": [229876.0, 265937.55555555556, 259736.66666666666, 189125.11111111112, 185273.22222222222, 171059.77777777778, 150380.55555555556, 152674.55555555556, 155493.0, 128083.77777777778, 100616.11111111111, 114786.33333333333, 85948.33333333333, 85817.33333333333, 77680.88888888889, 138426.55555555556, 84805.0, 430922.8888888889, 53826.333333333336, 87821.88888888889, 2142.1111111111113], \"name\": \"smtrx\", \"mode\": \"lines\"}], {\"title\": \"Mul performance\", \"xaxis\": {\"title\": \"Sparsing\"}, \"yaxis\": {\"title\": \"Processor ticks\"}}, {\"linkText\": \"Export to plot.ly\", \"showLink\": true})});</script>"
      ]
     },
     "metadata": {},
     "output_type": "display_data"
    }
   ],
   "source": [
    "from plotly.offline import download_plotlyjs, init_notebook_mode, plot, iplot\n",
    "import plotly.graph_objs as go\n",
    "import subprocess\n",
    "import random\n",
    "import math as m\n",
    "import subprocess\n",
    "import os\n",
    "import numpy as np\n",
    "from gen import gen\n",
    "\n",
    "init_notebook_mode(connected=True)\n",
    "\n",
    "mtrx = []\n",
    "smtrx = []\n",
    "\n",
    "for sparse in range(0, 100 + 1, 5):\n",
    "    print(\"Sparse:\", sparse)\n",
    "    #print(\"Generating A\")\n",
    "    d1 = gen(None, 1, 400, sparse/100)\n",
    "    #print(\"Generating B\")\n",
    "    d2 = gen(None, 400, 30, sparse/100)\n",
    "\n",
    "    avg_count = 9\n",
    "    avg_mtrx = []\n",
    "    avg_smtrx = []\n",
    "    i = 0\n",
    "    while i < avg_count:\n",
    "        output = subprocess.Popen(\"./main.exe\", \n",
    "                                  stdout = subprocess.PIPE, \n",
    "                                  stdin = subprocess.PIPE, \n",
    "                                  stderr = subprocess.STDOUT, \n",
    "                                  shell=True).communicate(input=(d1 + d2).encode(\"utf-8\"))[0]\n",
    "        out = output.decode(\"utf-8\").split(\"\\n\")\n",
    "        data = out[-3:]\n",
    "        if len(data) <= 1:\n",
    "            continue\n",
    "        elif \"Err code:\" in data[0]:\n",
    "            print(\"Error(%s) sparse(%d)\" % (data[1][len(\"Err code: \"):], sparse))\n",
    "        else:\n",
    "            #for x in out:\n",
    "            #    if \"Sparse\" in x:\n",
    "            #        print(x)\n",
    "\n",
    "            data[0] = data[0].replace(\"Ticks  MTRX: \\x1b[1;31m\", \"\")[:-len(\"\\x1b[0m\")]\n",
    "            data[1] = data[1].replace(\"Ticks SMTRX: \\x1b[1;32m\", \"\")[:-len(\"\\x1b[0m\")]\n",
    "            avg_mtrx.append(int(data[0]))\n",
    "            avg_smtrx.append(int(data[1]))\n",
    "            i += 1\n",
    "    mtrx.append((sparse, np.min(avg_mtrx)))\n",
    "    smtrx.append((sparse, np.median(avg_smtrx)))\n",
    "    \n",
    "data = [\n",
    "    go.Scatter(\n",
    "        x=list(n[0] for n in mtrx),\n",
    "        y=list(n[1] for n in mtrx),\n",
    "        mode='lines',\n",
    "        name='mtrx',\n",
    "        line=dict(\n",
    "            shape='spline'\n",
    "        ),\n",
    "    ),\n",
    "    go.Scatter(\n",
    "        x=list(n[0] for n in smtrx),\n",
    "        y=list(n[1] for n in smtrx),\n",
    "        mode='lines',\n",
    "        name='smtrx',\n",
    "        line=dict(\n",
    "            shape='spline'\n",
    "        ),\n",
    "    )\n",
    "]\n",
    "\n",
    "layout = dict(\n",
    "    title = 'Mul performance',\n",
    "    xaxis = dict(title = 'Sparsing'),\n",
    "    yaxis = dict(title = 'Processor ticks'),\n",
    ")\n",
    "\n",
    "fig = go.Figure(data=data, layout=layout)\n",
    "iplot(fig)"
   ]
  },
  {
   "cell_type": "code",
   "execution_count": null,
   "metadata": {},
   "outputs": [],
   "source": []
  },
  {
   "cell_type": "code",
   "execution_count": null,
   "metadata": {},
   "outputs": [],
   "source": []
  }
 ],
 "metadata": {
  "kernelspec": {
   "display_name": "Python 3",
   "language": "python",
   "name": "python3"
  }
 },
 "nbformat": 4,
 "nbformat_minor": 1
}
