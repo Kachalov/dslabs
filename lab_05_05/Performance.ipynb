{
 "cells": [
  {
   "cell_type": "code",
   "execution_count": 39,
   "metadata": {},
   "outputs": [
    {
     "data": {
      "text/html": [
       "<script>requirejs.config({paths: { 'plotly': ['https://cdn.plot.ly/plotly-latest.min']},});if(!window.Plotly) {{require(['plotly'],function(plotly) {window.Plotly=plotly;});}}</script>"
      ],
      "text/vnd.plotly.v1+html": [
       "<script>requirejs.config({paths: { 'plotly': ['https://cdn.plot.ly/plotly-latest.min']},});if(!window.Plotly) {{require(['plotly'],function(plotly) {window.Plotly=plotly;});}}</script>"
      ]
     },
     "metadata": {},
     "output_type": "display_data"
    },
    {
     "name": "stdout",
     "output_type": "stream",
     "text": [
      "Sparse: 0\n",
      "Sparse: 5\n",
      "Sparse: 10\n",
      "Sparse: 15\n",
      "Sparse: 20\n",
      "Sparse: 25\n",
      "Sparse: 30\n",
      "Sparse: 35\n",
      "Sparse: 40\n",
      "Sparse: 45\n",
      "Sparse: 50\n",
      "Sparse: 55\n",
      "Sparse: 60\n",
      "Sparse: 65\n",
      "Sparse: 70\n",
      "Sparse: 75\n",
      "Sparse: 80\n",
      "Sparse: 85\n",
      "Sparse: 90\n",
      "Sparse: 95\n",
      "Sparse: 100\n"
     ]
    },
    {
     "data": {
      "application/vnd.plotly.v1+json": {
       "data": [
        {
         "line": {
          "shape": "spline"
         },
         "mode": "lines",
         "name": "mtrx",
         "type": "scatter",
         "x": [
          0,
          5,
          10,
          15,
          20,
          25,
          30,
          35,
          40,
          45,
          50,
          55,
          60,
          65,
          70,
          75,
          80,
          85,
          90,
          95,
          100
         ],
         "y": [
          134667,
          130222,
          129073,
          128333,
          139394,
          126176,
          126594,
          126788,
          140385,
          126433,
          141178,
          143466,
          134127,
          126394,
          153403,
          154346,
          136906,
          133125,
          139491,
          125597,
          126985
         ]
        },
        {
         "line": {
          "shape": "spline"
         },
         "mode": "lines",
         "name": "smtrx",
         "type": "scatter",
         "x": [
          0,
          5,
          10,
          15,
          20,
          25,
          30,
          35,
          40,
          45,
          50,
          55,
          60,
          65,
          70,
          75,
          80,
          85,
          90,
          95,
          100
         ],
         "y": [
          150903,
          149246,
          139312,
          124958,
          116628,
          99357,
          110536,
          89430,
          74721,
          83000,
          57870,
          52891,
          42494,
          33340,
          29546,
          22055,
          16682,
          13791,
          12159,
          8897,
          576
         ]
        }
       ],
       "layout": {
        "title": "Mul performance",
        "xaxis": {
         "title": "Sparsing"
        },
        "yaxis": {
         "title": "Processor ticks"
        }
       }
      },
      "text/html": [
       "<div id=\"f42aacde-8197-4045-8a3a-f9a38cb207ad\" style=\"height: 525px; width: 100%;\" class=\"plotly-graph-div\"></div><script type=\"text/javascript\">require([\"plotly\"], function(Plotly) { window.PLOTLYENV=window.PLOTLYENV || {};window.PLOTLYENV.BASE_URL=\"https://plot.ly\";Plotly.newPlot(\"f42aacde-8197-4045-8a3a-f9a38cb207ad\", [{\"line\": {\"shape\": \"spline\"}, \"x\": [0, 5, 10, 15, 20, 25, 30, 35, 40, 45, 50, 55, 60, 65, 70, 75, 80, 85, 90, 95, 100], \"type\": \"scatter\", \"y\": [134667.0, 130222.0, 129073.0, 128333.0, 139394.0, 126176.0, 126594.0, 126788.0, 140385.0, 126433.0, 141178.0, 143466.0, 134127.0, 126394.0, 153403.0, 154346.0, 136906.0, 133125.0, 139491.0, 125597.0, 126985.0], \"name\": \"mtrx\", \"mode\": \"lines\"}, {\"line\": {\"shape\": \"spline\"}, \"x\": [0, 5, 10, 15, 20, 25, 30, 35, 40, 45, 50, 55, 60, 65, 70, 75, 80, 85, 90, 95, 100], \"type\": \"scatter\", \"y\": [150903.0, 149246.0, 139312.0, 124958.0, 116628.0, 99357.0, 110536.0, 89430.0, 74721.0, 83000.0, 57870.0, 52891.0, 42494.0, 33340.0, 29546.0, 22055.0, 16682.0, 13791.0, 12159.0, 8897.0, 576.0], \"name\": \"smtrx\", \"mode\": \"lines\"}], {\"title\": \"Mul performance\", \"xaxis\": {\"title\": \"Sparsing\"}, \"yaxis\": {\"title\": \"Processor ticks\"}}, {\"linkText\": \"Export to plot.ly\", \"showLink\": true})});</script>"
      ],
      "text/vnd.plotly.v1+html": [
       "<div id=\"f42aacde-8197-4045-8a3a-f9a38cb207ad\" style=\"height: 525px; width: 100%;\" class=\"plotly-graph-div\"></div><script type=\"text/javascript\">require([\"plotly\"], function(Plotly) { window.PLOTLYENV=window.PLOTLYENV || {};window.PLOTLYENV.BASE_URL=\"https://plot.ly\";Plotly.newPlot(\"f42aacde-8197-4045-8a3a-f9a38cb207ad\", [{\"line\": {\"shape\": \"spline\"}, \"x\": [0, 5, 10, 15, 20, 25, 30, 35, 40, 45, 50, 55, 60, 65, 70, 75, 80, 85, 90, 95, 100], \"type\": \"scatter\", \"y\": [134667.0, 130222.0, 129073.0, 128333.0, 139394.0, 126176.0, 126594.0, 126788.0, 140385.0, 126433.0, 141178.0, 143466.0, 134127.0, 126394.0, 153403.0, 154346.0, 136906.0, 133125.0, 139491.0, 125597.0, 126985.0], \"name\": \"mtrx\", \"mode\": \"lines\"}, {\"line\": {\"shape\": \"spline\"}, \"x\": [0, 5, 10, 15, 20, 25, 30, 35, 40, 45, 50, 55, 60, 65, 70, 75, 80, 85, 90, 95, 100], \"type\": \"scatter\", \"y\": [150903.0, 149246.0, 139312.0, 124958.0, 116628.0, 99357.0, 110536.0, 89430.0, 74721.0, 83000.0, 57870.0, 52891.0, 42494.0, 33340.0, 29546.0, 22055.0, 16682.0, 13791.0, 12159.0, 8897.0, 576.0], \"name\": \"smtrx\", \"mode\": \"lines\"}], {\"title\": \"Mul performance\", \"xaxis\": {\"title\": \"Sparsing\"}, \"yaxis\": {\"title\": \"Processor ticks\"}}, {\"linkText\": \"Export to plot.ly\", \"showLink\": true})});</script>"
      ]
     },
     "metadata": {},
     "output_type": "display_data"
    }
   ],
   "source": [
    "from plotly.offline import download_plotlyjs, init_notebook_mode, plot, iplot\n",
    "import plotly.graph_objs as go\n",
    "import subprocess\n",
    "import random\n",
    "import math as m\n",
    "import subprocess\n",
    "import os\n",
    "import numpy as np\n",
    "from gen import gen\n",
    "\n",
    "init_notebook_mode(connected=True)\n",
    "\n",
    "mtrx = []\n",
    "smtrx = []\n",
    "\n",
    "for sparse in range(0, 100 + 1, 5):\n",
    "    print(\"Sparse:\", sparse)\n",
    "    #print(\"Generating A\")\n",
    "    d1 = gen(None, 1, 400, sparse/100)\n",
    "    #print(\"Generating B\")\n",
    "    d2 = gen(None, 400, 30, sparse/100)\n",
    "\n",
    "    avg_count = 7\n",
    "    avg_mtrx = []\n",
    "    avg_smtrx = []\n",
    "    i = 0\n",
    "    while i < avg_count:\n",
    "        output = subprocess.Popen(\"./main.exe\", \n",
    "                                  stdout = subprocess.PIPE, \n",
    "                                  stdin = subprocess.PIPE, \n",
    "                                  stderr = subprocess.STDOUT, \n",
    "                                  shell=True).communicate(input=(d1 + d2).encode(\"utf-8\"))[0]\n",
    "        out = output.decode(\"utf-8\").split(\"\\n\")\n",
    "        data = out[-3:]\n",
    "        if len(data) <= 1:\n",
    "            continue\n",
    "        elif \"Err code:\" in data[0]:\n",
    "            print(\"Error(%s) sparse(%d)\" % (data[1][len(\"Err code: \"):], sparse))\n",
    "        else:\n",
    "            #for x in out:\n",
    "            #    if \"Sparse\" in x:\n",
    "            #        print(x)\n",
    "\n",
    "            data[0] = data[0].replace(\"Ticks  MTRX: \\x1b[1;31m\", \"\")[:-len(\"\\x1b[0m\")]\n",
    "            data[1] = data[1].replace(\"Ticks SMTRX: \\x1b[1;32m\", \"\")[:-len(\"\\x1b[0m\")]\n",
    "            avg_mtrx.append(int(data[0]))\n",
    "            avg_smtrx.append(int(data[1]))\n",
    "            i += 1\n",
    "    mtrx.append((sparse, np.median(avg_mtrx)))\n",
    "    smtrx.append((sparse, np.median(avg_smtrx)))\n",
    "    \n",
    "data = [\n",
    "    go.Scatter(\n",
    "        x=list(n[0] for n in mtrx),\n",
    "        y=list(n[1] for n in mtrx),\n",
    "        mode='lines',\n",
    "        name='mtrx',\n",
    "        line=dict(\n",
    "            shape='spline'\n",
    "        ),\n",
    "    ),\n",
    "    go.Scatter(\n",
    "        x=list(n[0] for n in smtrx),\n",
    "        y=list(n[1] for n in smtrx),\n",
    "        mode='lines',\n",
    "        name='smtrx',\n",
    "        line=dict(\n",
    "            shape='spline'\n",
    "        ),\n",
    "    )\n",
    "]\n",
    "\n",
    "layout = dict(\n",
    "    title = 'Mul performance',\n",
    "    xaxis = dict(title = 'Sparsing'),\n",
    "    yaxis = dict(title = 'Processor ticks'),\n",
    ")\n",
    "\n",
    "fig = go.Figure(data=data, layout=layout)\n",
    "iplot(fig)"
   ]
  },
  {
   "cell_type": "code",
   "execution_count": null,
   "metadata": {},
   "outputs": [],
   "source": []
  },
  {
   "cell_type": "code",
   "execution_count": null,
   "metadata": {},
   "outputs": [],
   "source": []
  }
 ],
 "metadata": {
  "kernelspec": {
   "display_name": "Python 3",
   "language": "python",
   "name": "python3"
  }
 },
 "nbformat": 4,
 "nbformat_minor": 1
}
