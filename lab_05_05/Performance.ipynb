{
 "cells": [
  {
   "cell_type": "code",
   "execution_count": 61,
   "metadata": {},
   "outputs": [
    {
     "data": {
      "text/html": [
       "<script>requirejs.config({paths: { 'plotly': ['https://cdn.plot.ly/plotly-latest.min']},});if(!window.Plotly) {{require(['plotly'],function(plotly) {window.Plotly=plotly;});}}</script>"
      ],
      "text/vnd.plotly.v1+html": [
       "<script>requirejs.config({paths: { 'plotly': ['https://cdn.plot.ly/plotly-latest.min']},});if(!window.Plotly) {{require(['plotly'],function(plotly) {window.Plotly=plotly;});}}</script>"
      ]
     },
     "metadata": {},
     "output_type": "display_data"
    },
    {
     "name": "stdout",
     "output_type": "stream",
     "text": [
      "Sparse: 0\n",
      "Sparse: 5\n",
      "Sparse: 10\n",
      "Sparse: 15\n",
      "Sparse: 20\n",
      "Sparse: 25\n",
      "Sparse: 30\n",
      "Sparse: 35\n",
      "Sparse: 40\n",
      "Sparse: 45\n",
      "Sparse: 50\n",
      "Sparse: 55\n",
      "Sparse: 60\n",
      "Sparse: 65\n",
      "Sparse: 70\n",
      "Sparse: 75\n",
      "Sparse: 80\n",
      "Sparse: 85\n",
      "Sparse: 90\n",
      "Sparse: 95\n",
      "Sparse: 100\n"
     ]
    },
    {
     "data": {
      "application/vnd.plotly.v1+json": {
       "data": [
        {
         "line": {
          "shape": "spline"
         },
         "mode": "lines",
         "name": "mtrx",
         "type": "scatter",
         "x": [
          0,
          5,
          10,
          15,
          20,
          25,
          30,
          35,
          40,
          45,
          50,
          55,
          60,
          65,
          70,
          75,
          80,
          85,
          90,
          95,
          100
         ],
         "y": [
          300997,
          292027,
          290606,
          303852,
          326300,
          303170,
          304857,
          369321,
          330726,
          272275,
          305627,
          324852,
          249264,
          292767,
          284106,
          288015,
          288976,
          292752,
          268079,
          223445,
          168533
         ]
        },
        {
         "line": {
          "shape": "spline"
         },
         "mode": "lines",
         "name": "smtrx",
         "type": "scatter",
         "x": [
          0,
          5,
          10,
          15,
          20,
          25,
          30,
          35,
          40,
          45,
          50,
          55,
          60,
          65,
          70,
          75,
          80,
          85,
          90,
          95,
          100
         ],
         "y": [
          927011,
          731464,
          662415,
          577182,
          695706,
          486836,
          559872,
          565366,
          413206,
          409222,
          346634,
          274267,
          252294,
          214879,
          189557,
          196919,
          172319,
          137130,
          105785,
          67558,
          1737
         ]
        }
       ],
       "layout": {
        "title": "Mul performance",
        "xaxis": {
         "title": "Sparsing"
        },
        "yaxis": {
         "title": "Processor ticks"
        }
       }
      },
      "text/html": [
       "<div id=\"788f823f-9778-427f-ab5e-2af732215714\" style=\"height: 525px; width: 100%;\" class=\"plotly-graph-div\"></div><script type=\"text/javascript\">require([\"plotly\"], function(Plotly) { window.PLOTLYENV=window.PLOTLYENV || {};window.PLOTLYENV.BASE_URL=\"https://plot.ly\";Plotly.newPlot(\"788f823f-9778-427f-ab5e-2af732215714\", [{\"line\": {\"shape\": \"spline\"}, \"x\": [0, 5, 10, 15, 20, 25, 30, 35, 40, 45, 50, 55, 60, 65, 70, 75, 80, 85, 90, 95, 100], \"type\": \"scatter\", \"y\": [300997.0, 292027.0, 290606.0, 303852.0, 326300.0, 303170.0, 304857.0, 369321.0, 330726.0, 272275.0, 305627.0, 324852.0, 249264.0, 292767.0, 284106.0, 288015.0, 288976.0, 292752.0, 268079.0, 223445.0, 168533.0], \"name\": \"mtrx\", \"mode\": \"lines\"}, {\"line\": {\"shape\": \"spline\"}, \"x\": [0, 5, 10, 15, 20, 25, 30, 35, 40, 45, 50, 55, 60, 65, 70, 75, 80, 85, 90, 95, 100], \"type\": \"scatter\", \"y\": [927011.0, 731464.0, 662415.0, 577182.0, 695706.0, 486836.0, 559872.0, 565366.0, 413206.0, 409222.0, 346634.0, 274267.0, 252294.0, 214879.0, 189557.0, 196919.0, 172319.0, 137130.0, 105785.0, 67558.0, 1737.0], \"name\": \"smtrx\", \"mode\": \"lines\"}], {\"title\": \"Mul performance\", \"xaxis\": {\"title\": \"Sparsing\"}, \"yaxis\": {\"title\": \"Processor ticks\"}}, {\"linkText\": \"Export to plot.ly\", \"showLink\": true})});</script>"
      ],
      "text/vnd.plotly.v1+html": [
       "<div id=\"788f823f-9778-427f-ab5e-2af732215714\" style=\"height: 525px; width: 100%;\" class=\"plotly-graph-div\"></div><script type=\"text/javascript\">require([\"plotly\"], function(Plotly) { window.PLOTLYENV=window.PLOTLYENV || {};window.PLOTLYENV.BASE_URL=\"https://plot.ly\";Plotly.newPlot(\"788f823f-9778-427f-ab5e-2af732215714\", [{\"line\": {\"shape\": \"spline\"}, \"x\": [0, 5, 10, 15, 20, 25, 30, 35, 40, 45, 50, 55, 60, 65, 70, 75, 80, 85, 90, 95, 100], \"type\": \"scatter\", \"y\": [300997.0, 292027.0, 290606.0, 303852.0, 326300.0, 303170.0, 304857.0, 369321.0, 330726.0, 272275.0, 305627.0, 324852.0, 249264.0, 292767.0, 284106.0, 288015.0, 288976.0, 292752.0, 268079.0, 223445.0, 168533.0], \"name\": \"mtrx\", \"mode\": \"lines\"}, {\"line\": {\"shape\": \"spline\"}, \"x\": [0, 5, 10, 15, 20, 25, 30, 35, 40, 45, 50, 55, 60, 65, 70, 75, 80, 85, 90, 95, 100], \"type\": \"scatter\", \"y\": [927011.0, 731464.0, 662415.0, 577182.0, 695706.0, 486836.0, 559872.0, 565366.0, 413206.0, 409222.0, 346634.0, 274267.0, 252294.0, 214879.0, 189557.0, 196919.0, 172319.0, 137130.0, 105785.0, 67558.0, 1737.0], \"name\": \"smtrx\", \"mode\": \"lines\"}], {\"title\": \"Mul performance\", \"xaxis\": {\"title\": \"Sparsing\"}, \"yaxis\": {\"title\": \"Processor ticks\"}}, {\"linkText\": \"Export to plot.ly\", \"showLink\": true})});</script>"
      ]
     },
     "metadata": {},
     "output_type": "display_data"
    }
   ],
   "source": [
    "from plotly.offline import download_plotlyjs, init_notebook_mode, plot, iplot\n",
    "import plotly.graph_objs as go\n",
    "import subprocess\n",
    "import random\n",
    "import math as m\n",
    "import subprocess\n",
    "import os\n",
    "import numpy as np\n",
    "from gen import gen\n",
    "\n",
    "init_notebook_mode(connected=True)\n",
    "\n",
    "mtrx = []\n",
    "smtrx = []\n",
    "\n",
    "for sparse in range(0, 100 + 1, 5):\n",
    "    print(\"Sparse:\", sparse)\n",
    "    #print(\"Generating A\")\n",
    "    d1 = gen(None, 1, 500, sparse/100)\n",
    "    #print(\"Generating B\")\n",
    "    d2 = gen(None, 500, 500, sparse/100)\n",
    "\n",
    "    avg_count = 5\n",
    "    avg_mtrx = []\n",
    "    avg_smtrx = []\n",
    "    i = 0\n",
    "    while i < avg_count:\n",
    "        output = subprocess.Popen(\"./main.exe\", \n",
    "                                  stdout = subprocess.PIPE, \n",
    "                                  stdin = subprocess.PIPE, \n",
    "                                  stderr = subprocess.STDOUT, \n",
    "                                  shell=True).communicate(input=(d1 + d2).encode(\"utf-8\"))[0]\n",
    "        out = output.decode(\"utf-8\").split(\"\\n\")\n",
    "        data = out[-3:]\n",
    "        if len(data) <= 1:\n",
    "            continue\n",
    "        elif \"Err code:\" in data[0]:\n",
    "            print(\"Error(%s) sparse(%d)\" % (data[1][len(\"Err code: \"):], sparse))\n",
    "        else:\n",
    "            #for x in out:\n",
    "            #    if \"Sparse\" in x:\n",
    "            #        print(x)\n",
    "\n",
    "            data[0] = data[0].replace(\"Ticks  MTRX: \\x1b[1;31m\", \"\")[:-len(\"\\x1b[0m\")]\n",
    "            data[1] = data[1].replace(\"Ticks SMTRX: \\x1b[1;32m\", \"\")[:-len(\"\\x1b[0m\")]\n",
    "            avg_mtrx.append(int(data[0]))\n",
    "            avg_smtrx.append(int(data[1]))\n",
    "            i += 1\n",
    "    mtrx.append((sparse, np.median(avg_mtrx)))\n",
    "    smtrx.append((sparse, np.median(avg_smtrx)))\n",
    "    \n",
    "data = [\n",
    "    go.Scatter(\n",
    "        x=list(n[0] for n in mtrx),\n",
    "        y=list(n[1] for n in mtrx),\n",
    "        mode='lines',\n",
    "        name='mtrx',\n",
    "        line=dict(\n",
    "            shape='spline'\n",
    "        ),\n",
    "    ),\n",
    "    go.Scatter(\n",
    "        x=list(n[0] for n in smtrx),\n",
    "        y=list(n[1] for n in smtrx),\n",
    "        mode='lines',\n",
    "        name='smtrx',\n",
    "        line=dict(\n",
    "            shape='spline'\n",
    "        ),\n",
    "    )\n",
    "]\n",
    "\n",
    "layout = dict(\n",
    "    title = 'Mul performance',\n",
    "    xaxis = dict(title = 'Sparsing'),\n",
    "    yaxis = dict(title = 'Processor ticks'),\n",
    ")\n",
    "\n",
    "fig = go.Figure(data=data, layout=layout)\n",
    "iplot(fig)"
   ]
  }
 ],
 "metadata": {
  "kernelspec": {
   "display_name": "Python 3",
   "language": "python",
   "name": "python3"
  }
 },
 "nbformat": 4,
 "nbformat_minor": 1
}
