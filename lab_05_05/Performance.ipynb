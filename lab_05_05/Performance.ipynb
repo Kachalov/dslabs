{
 "cells": [
  {
   "cell_type": "code",
   "execution_count": 2,
   "metadata": {},
   "outputs": [
    {
     "data": {
      "text/html": [
       "<script>requirejs.config({paths: { 'plotly': ['https://cdn.plot.ly/plotly-latest.min']},});if(!window.Plotly) {{require(['plotly'],function(plotly) {window.Plotly=plotly;});}}</script>"
      ],
      "text/vnd.plotly.v1+html": [
       "<script>requirejs.config({paths: { 'plotly': ['https://cdn.plot.ly/plotly-latest.min']},});if(!window.Plotly) {{require(['plotly'],function(plotly) {window.Plotly=plotly;});}}</script>"
      ]
     },
     "metadata": {},
     "output_type": "display_data"
    },
    {
     "name": "stdout",
     "output_type": "stream",
     "text": [
      "Sparse: 0\n",
      "Sparse: 5\n",
      "Sparse: 10\n",
      "Sparse: 15\n",
      "Sparse: 20\n",
      "Sparse: 25\n",
      "Sparse: 30\n",
      "Sparse: 35\n",
      "Sparse: 40\n",
      "Sparse: 45\n",
      "Sparse: 50\n",
      "Sparse: 55\n",
      "Sparse: 60\n",
      "Sparse: 65\n",
      "Sparse: 70\n",
      "Sparse: 75\n",
      "Sparse: 80\n",
      "Sparse: 85\n",
      "Sparse: 90\n",
      "Sparse: 95\n",
      "Sparse: 100\n"
     ]
    },
    {
     "data": {
      "application/vnd.plotly.v1+json": {
       "data": [
        {
         "line": {
          "shape": "spline"
         },
         "mode": "lines",
         "name": "mtrx",
         "type": "scatter",
         "x": [
          0,
          5,
          10,
          15,
          20,
          25,
          30,
          35,
          40,
          45,
          50,
          55,
          60,
          65,
          70,
          75,
          80,
          85,
          90,
          95,
          100
         ],
         "y": [
          289831.4,
          290675,
          259185.8,
          223353.2,
          307440.6,
          230596.4,
          258185.6,
          291101.4,
          228897.8,
          240629.6,
          261416.8,
          212776,
          235804.4,
          245892.4,
          258442,
          243866,
          218967.2,
          213435.6,
          186998.8,
          233503,
          195005.8
         ]
        },
        {
         "line": {
          "shape": "spline"
         },
         "mode": "lines",
         "name": "smtrx",
         "type": "scatter",
         "x": [
          0,
          5,
          10,
          15,
          20,
          25,
          30,
          35,
          40,
          45,
          50,
          55,
          60,
          65,
          70,
          75,
          80,
          85,
          90,
          95,
          100
         ],
         "y": [
          1287672.4,
          771792.6,
          709012.2,
          773314.6,
          694627.8,
          558098.2,
          561904.6,
          517560.6,
          457883.4,
          369262,
          371119.6,
          356007.4,
          277872.2,
          282979.6,
          218415,
          241268.2,
          232663,
          195171.4,
          153908,
          124468.2,
          1594.8
         ]
        }
       ],
       "layout": {
        "title": "Mul performance",
        "xaxis": {
         "title": "Sparsing"
        },
        "yaxis": {
         "title": "Processor ticks"
        }
       }
      },
      "text/html": [
       "<div id=\"d845f1a0-6d20-462f-80d0-1f63c5f4702d\" style=\"height: 525px; width: 100%;\" class=\"plotly-graph-div\"></div><script type=\"text/javascript\">require([\"plotly\"], function(Plotly) { window.PLOTLYENV=window.PLOTLYENV || {};window.PLOTLYENV.BASE_URL=\"https://plot.ly\";Plotly.newPlot(\"d845f1a0-6d20-462f-80d0-1f63c5f4702d\", [{\"name\": \"mtrx\", \"line\": {\"shape\": \"spline\"}, \"mode\": \"lines\", \"type\": \"scatter\", \"y\": [289831.4, 290675.0, 259185.8, 223353.2, 307440.6, 230596.4, 258185.6, 291101.4, 228897.8, 240629.6, 261416.8, 212776.0, 235804.4, 245892.4, 258442.0, 243866.0, 218967.2, 213435.6, 186998.8, 233503.0, 195005.8], \"x\": [0, 5, 10, 15, 20, 25, 30, 35, 40, 45, 50, 55, 60, 65, 70, 75, 80, 85, 90, 95, 100]}, {\"name\": \"smtrx\", \"line\": {\"shape\": \"spline\"}, \"mode\": \"lines\", \"type\": \"scatter\", \"y\": [1287672.4, 771792.6, 709012.2, 773314.6, 694627.8, 558098.2, 561904.6, 517560.6, 457883.4, 369262.0, 371119.6, 356007.4, 277872.2, 282979.6, 218415.0, 241268.2, 232663.0, 195171.4, 153908.0, 124468.2, 1594.8], \"x\": [0, 5, 10, 15, 20, 25, 30, 35, 40, 45, 50, 55, 60, 65, 70, 75, 80, 85, 90, 95, 100]}], {\"title\": \"Mul performance\", \"yaxis\": {\"title\": \"Processor ticks\"}, \"xaxis\": {\"title\": \"Sparsing\"}}, {\"showLink\": true, \"linkText\": \"Export to plot.ly\"})});</script>"
      ],
      "text/vnd.plotly.v1+html": [
       "<div id=\"d845f1a0-6d20-462f-80d0-1f63c5f4702d\" style=\"height: 525px; width: 100%;\" class=\"plotly-graph-div\"></div><script type=\"text/javascript\">require([\"plotly\"], function(Plotly) { window.PLOTLYENV=window.PLOTLYENV || {};window.PLOTLYENV.BASE_URL=\"https://plot.ly\";Plotly.newPlot(\"d845f1a0-6d20-462f-80d0-1f63c5f4702d\", [{\"name\": \"mtrx\", \"line\": {\"shape\": \"spline\"}, \"mode\": \"lines\", \"type\": \"scatter\", \"y\": [289831.4, 290675.0, 259185.8, 223353.2, 307440.6, 230596.4, 258185.6, 291101.4, 228897.8, 240629.6, 261416.8, 212776.0, 235804.4, 245892.4, 258442.0, 243866.0, 218967.2, 213435.6, 186998.8, 233503.0, 195005.8], \"x\": [0, 5, 10, 15, 20, 25, 30, 35, 40, 45, 50, 55, 60, 65, 70, 75, 80, 85, 90, 95, 100]}, {\"name\": \"smtrx\", \"line\": {\"shape\": \"spline\"}, \"mode\": \"lines\", \"type\": \"scatter\", \"y\": [1287672.4, 771792.6, 709012.2, 773314.6, 694627.8, 558098.2, 561904.6, 517560.6, 457883.4, 369262.0, 371119.6, 356007.4, 277872.2, 282979.6, 218415.0, 241268.2, 232663.0, 195171.4, 153908.0, 124468.2, 1594.8], \"x\": [0, 5, 10, 15, 20, 25, 30, 35, 40, 45, 50, 55, 60, 65, 70, 75, 80, 85, 90, 95, 100]}], {\"title\": \"Mul performance\", \"yaxis\": {\"title\": \"Processor ticks\"}, \"xaxis\": {\"title\": \"Sparsing\"}}, {\"showLink\": true, \"linkText\": \"Export to plot.ly\"})});</script>"
      ]
     },
     "metadata": {},
     "output_type": "display_data"
    }
   ],
   "source": [
    "from plotly.offline import download_plotlyjs, init_notebook_mode, plot, iplot\n",
    "import plotly.graph_objs as go\n",
    "import subprocess\n",
    "import random\n",
    "import math as m\n",
    "import subprocess\n",
    "import os\n",
    "import numpy as np\n",
    "from gen import gen\n",
    "\n",
    "init_notebook_mode(connected=True)\n",
    "\n",
    "mtrx = []\n",
    "smtrx = []\n",
    "\n",
    "for sparse in range(0, 100 + 1, 5):\n",
    "    print(\"Sparse:\", sparse)\n",
    "    #print(\"Generating A\")\n",
    "    d1 = gen(None, 1, 500, sparse/100)\n",
    "    #print(\"Generating B\")\n",
    "    d2 = gen(None, 500, 500, sparse/100)\n",
    "\n",
    "    avg_count = 5\n",
    "    avg_mtrx = []\n",
    "    avg_smtrx = []\n",
    "    i = 0\n",
    "    while i < avg_count:\n",
    "        output = subprocess.Popen(\"./main.exe\", \n",
    "                                  stdout = subprocess.PIPE, \n",
    "                                  stdin = subprocess.PIPE, \n",
    "                                  stderr = subprocess.STDOUT, \n",
    "                                  shell=True).communicate(input=(d1 + d2).encode(\"utf-8\"))[0]\n",
    "        out = output.decode(\"utf-8\").split(\"\\n\")\n",
    "        data = out[-3:]\n",
    "        if len(data) <= 1:\n",
    "            continue\n",
    "        elif \"Err code:\" in data[0]:\n",
    "            print(\"Error(%s) sparse(%d)\" % (data[1][len(\"Err code: \"):], sparse))\n",
    "        else:\n",
    "            #for x in out:\n",
    "            #    if \"Sparse\" in x:\n",
    "            #        print(x)\n",
    "\n",
    "            data[0] = data[0].replace(\"Ticks  MTRX: \\x1b[1;31m\", \"\")[:-len(\"\\x1b[0m\")]\n",
    "            data[1] = data[1].replace(\"Ticks SMTRX: \\x1b[1;32m\", \"\")[:-len(\"\\x1b[0m\")]\n",
    "            avg_mtrx.append(int(data[0]))\n",
    "            avg_smtrx.append(int(data[1]))\n",
    "            i += 1\n",
    "    mtrx.append((sparse, np.mean(avg_mtrx)))\n",
    "    smtrx.append((sparse, np.mean(avg_smtrx)))\n",
    "    \n",
    "data = [\n",
    "    go.Scatter(\n",
    "        x=list(n[0] for n in mtrx),\n",
    "        y=list(n[1] for n in mtrx),\n",
    "        mode='lines',\n",
    "        name='mtrx',\n",
    "        line=dict(\n",
    "            shape='spline'\n",
    "        ),\n",
    "    ),\n",
    "    go.Scatter(\n",
    "        x=list(n[0] for n in smtrx),\n",
    "        y=list(n[1] for n in smtrx),\n",
    "        mode='lines',\n",
    "        name='smtrx',\n",
    "        line=dict(\n",
    "            shape='spline'\n",
    "        ),\n",
    "    )\n",
    "]\n",
    "\n",
    "layout = dict(\n",
    "    title = 'Mul performance',\n",
    "    xaxis = dict(title = 'Sparsing'),\n",
    "    yaxis = dict(title = 'Processor ticks'),\n",
    ")\n",
    "\n",
    "fig = go.Figure(data=data, layout=layout)\n",
    "iplot(fig)"
   ]
  },
  {
   "cell_type": "code",
   "execution_count": null,
   "metadata": {},
   "outputs": [],
   "source": []
  }
 ],
 "metadata": {
  "kernelspec": {
   "display_name": "Python 3",
   "language": "python",
   "name": "python3"
  },
  "language_info": {
   "codemirror_mode": {
    "name": "ipython",
    "version": 3
   },
   "file_extension": ".py",
   "mimetype": "text/x-python",
   "name": "python",
   "nbconvert_exporter": "python",
   "pygments_lexer": "ipython3",
   "version": "3.5.1"
  }
 },
 "nbformat": 4,
 "nbformat_minor": 1
}
