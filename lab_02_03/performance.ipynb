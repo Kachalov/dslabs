{
 "metadata": {
  "name": "",
  "signature": "sha256:5c27434680ffcf5e2e068ad78f94f351c56bf5c6f5cd22318c5bd2c5b70111be"
 },
 "nbformat": 3,
 "nbformat_minor": 0,
 "worksheets": [
  {
   "cells": [
    {
     "cell_type": "code",
     "collapsed": false,
     "input": [
      "from plotly.offline import download_plotlyjs, init_notebook_mode, plot, iplot\n",
      "import plotly.graph_objs as go\n",
      "import subprocess\n",
      "import random\n",
      "import math as m\n",
      "\n",
      "import sys\n",
      "import os\n",
      "sys.path.append(os.path.abspath(os.getcwd()))\n",
      "print(os.path.abspath(os.getcwd()))\n",
      "import gen\n",
      "\n",
      "init_notebook_mode(connected=True)\n",
      "\n",
      "tests = [\n",
      "    ('Bubble data', 'time_bd.tsv'),\n",
      "    ('Qsort data', 'time_qd.tsv'),\n",
      "    ('Bubble index', 'time_bn.tsv'),\n",
      "    ('Qsort index', 'time_qn.tsv'),\n",
      "]\n",
      "\n",
      "data = {}\n",
      "\n",
      "try:\n",
      "    for name, fn in tests:\n",
      "        with open(fn, 'r') as f:\n",
      "            data.setdefault(name, [])\n",
      "            for l in f:\n",
      "                d = l.split()\n",
      "                if len(d) < 2:\n",
      "                    break\n",
      "                data[name].append(l.split())\n",
      "except KeyboardInterrupt:\n",
      "    pass\n",
      "    \n",
      "data = [\n",
      "    go.Scatter(\n",
      "        x=list(n[0] for n in d),\n",
      "        y=list(n[1] for n in d),\n",
      "        mode='lines',\n",
      "        name=name,\n",
      "        line=dict(\n",
      "            shape='spline'\n",
      "        ),\n",
      "    )\n",
      "    for name, d in data.items()\n",
      "]\n",
      "\n",
      "layout = dict(\n",
      "    title = 'Sort performance',\n",
      "    xaxis = dict(title = 'Students in database'),\n",
      "    yaxis = dict(title = 'Processor ticks'),\n",
      ")\n",
      "\n",
      "fig = go.Figure(data=data, layout=layout)\n",
      "iplot(fig)"
     ],
     "language": "python",
     "metadata": {},
     "outputs": [
      {
       "output_type": "stream",
       "stream": "stdout",
       "text": [
        "/home/alexey/datastruct/lab_02_03\n"
       ]
      },
      {
       "ename": "ImportError",
       "evalue": "No module named 'gen'",
       "output_type": "pyerr",
       "traceback": [
        "\u001b[0;31m---------------------------------------------------------------------------\u001b[0m\n\u001b[0;31mImportError\u001b[0m                               Traceback (most recent call last)",
        "\u001b[0;32m<ipython-input-6-c6edb374ceef>\u001b[0m in \u001b[0;36m<module>\u001b[0;34m()\u001b[0m\n\u001b[1;32m      9\u001b[0m \u001b[0msys\u001b[0m\u001b[0;34m.\u001b[0m\u001b[0mpath\u001b[0m\u001b[0;34m.\u001b[0m\u001b[0mappend\u001b[0m\u001b[0;34m(\u001b[0m\u001b[0mos\u001b[0m\u001b[0;34m.\u001b[0m\u001b[0mpath\u001b[0m\u001b[0;34m.\u001b[0m\u001b[0mabspath\u001b[0m\u001b[0;34m(\u001b[0m\u001b[0mos\u001b[0m\u001b[0;34m.\u001b[0m\u001b[0mgetcwd\u001b[0m\u001b[0;34m(\u001b[0m\u001b[0;34m)\u001b[0m\u001b[0;34m)\u001b[0m\u001b[0;34m)\u001b[0m\u001b[0;34m\u001b[0m\u001b[0m\n\u001b[1;32m     10\u001b[0m \u001b[0mprint\u001b[0m\u001b[0;34m(\u001b[0m\u001b[0mos\u001b[0m\u001b[0;34m.\u001b[0m\u001b[0mpath\u001b[0m\u001b[0;34m.\u001b[0m\u001b[0mabspath\u001b[0m\u001b[0;34m(\u001b[0m\u001b[0mos\u001b[0m\u001b[0;34m.\u001b[0m\u001b[0mgetcwd\u001b[0m\u001b[0;34m(\u001b[0m\u001b[0;34m)\u001b[0m\u001b[0;34m)\u001b[0m\u001b[0;34m)\u001b[0m\u001b[0;34m\u001b[0m\u001b[0m\n\u001b[0;32m---> 11\u001b[0;31m \u001b[0;32mimport\u001b[0m \u001b[0mgen\u001b[0m\u001b[0;34m\u001b[0m\u001b[0m\n\u001b[0m\u001b[1;32m     12\u001b[0m \u001b[0;34m\u001b[0m\u001b[0m\n\u001b[1;32m     13\u001b[0m \u001b[0minit_notebook_mode\u001b[0m\u001b[0;34m(\u001b[0m\u001b[0mconnected\u001b[0m\u001b[0;34m=\u001b[0m\u001b[0;32mTrue\u001b[0m\u001b[0;34m)\u001b[0m\u001b[0;34m\u001b[0m\u001b[0m\n",
        "\u001b[0;31mImportError\u001b[0m: No module named 'gen'"
       ]
      }
     ],
     "prompt_number": 6
    },
    {
     "cell_type": "code",
     "collapsed": false,
     "input": [],
     "language": "python",
     "metadata": {},
     "outputs": []
    }
   ],
   "metadata": {}
  }
 ]
}